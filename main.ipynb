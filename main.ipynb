{
 "cells": [
  {
   "cell_type": "markdown",
   "metadata": {},
   "source": [
    "# Seleção da Database\n",
    "## Database: Brazilian E-Commerce Public Database by Olist\n",
    "https://www.kaggle.com/olistbr/brazilian-ecommerce?select=olist_order_items_dataset.csv\n",
    "\n",
    "### Problema de Negócio: Quais são os principais fatores que influenciam o numero de vendas na Olist. A região do cliente, o atendimento ao consumidor possuem impacto nas vendas? Quais são os fatores que influenciam um cliente a avaliar positivamente ou negativamente o seu pedido?\n",
    "\n",
    "### Perguntas\n",
    "\n",
    "- 1. Como as vendas foram afetadas ao longo da coleta de dados entre 2016 e 2018?\n",
    "\n",
    "- 2. Qual a diferença de vendas entre os meses de cada ano?\n",
    "\n",
    "- 3. Existe diferença significativa de venda para cada um dos seguintes fatores:\n",
    "    - Ano\n",
    "    - Mês\n",
    "    - Dia da Semana\n",
    "    - Horário\n",
    "    - Região\n",
    "    - Método de Pagamento\n",
    "   \n",
    "- 4. Quais produtos e categoria possuem maiores vendas?\n",
    "   \n",
    "- 5. As notas de review do produto possuem impacto no número de vendas?\n",
    "\n",
    "- 6. A localização impacta no tempo de entrega?\n",
    "\n",
    "- 7. O tempo de entrega impacta no review do produto?\n",
    "\n",
    "- 8. Quais categorias são mais consumidas por região?\n",
    "    - Diferentes regiões possuem maior adesão por diferentes tipos de produto?\n",
    "\n"
   ]
  },
  {
   "cell_type": "code",
   "execution_count": null,
   "metadata": {},
   "outputs": [],
   "source": []
  }
 ],
 "metadata": {
  "kernelspec": {
   "display_name": "Python 3",
   "language": "python",
   "name": "python3"
  },
  "language_info": {
   "codemirror_mode": {
    "name": "ipython",
    "version": 3
   },
   "file_extension": ".py",
   "mimetype": "text/x-python",
   "name": "python",
   "nbconvert_exporter": "python",
   "pygments_lexer": "ipython3",
   "version": "3.8.5"
  }
 },
 "nbformat": 4,
 "nbformat_minor": 4
}
