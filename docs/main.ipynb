{
 "cells": [
  {
   "cell_type": "markdown",
   "metadata": {},
   "source": [
    "# Seleção da Database\n",
    "## Database: \n",
    "Brazilian E-Commerce Public Database by Olist\n",
    "https://www.kaggle.com/olistbr/brazilian-ecommerce?select=olist_order_items_dataset.csv\n",
    "\n",
    "### Descrição: \n",
    "A database foi provida pela Olist, uma empresa de marketplace situada no Brasil. A Olist conecta pequenos negócios por todo o Brasil de uma forma simples. Vendedores conseguem vender seus produtos diretamente pela Olist Store, as entregas são feitas por meio de parceiros.\n",
    "\n",
    "### Problema de Negócio:\n",
    "Quais são os principais fatores que alavancam o número de vendas? Quais os fatores que impactam na avaliação do cliente?\n",
    "\n",
    "### Perguntas:\n",
    "- 1. Como as vendas foram afetadas entre 2016 e 2018?\n",
    "\n",
    "- 2. Existe diferença significativa de venda para cada um dos seguintes fatores:\n",
    "    - Ano\n",
    "    - Mês\n",
    "    - Dia da Semana\n",
    "    - Horário\n",
    "    - Região\n",
    "    - Método de Pagamento\n",
    "   \n",
    "- 3. Quais produtos e categoria possuem maiores vendas?\n",
    "   \n",
    "- 4. As notas de review do produto possuem impacto no número de vendas?\n",
    "    - Realizar plot de nuvem de palavras\n",
    "\n",
    "- 5. A localização impacta no tempo de entrega?\n",
    "    - Heatmap por localização (Mapa)\n",
    "\n",
    "- 6. O tempo de entrega impacta no review do produto?\n",
    "\n",
    "- 7. Quais categorias são mais consumidas por região?\n",
    "    - Diferentes regiões possuem maior adesão por diferentes tipos de produto?"
   ]
  },
  {
   "cell_type": "markdown",
   "metadata": {},
   "source": [
    "# Carregamento dos Dados\n",
    "\n",
    "Determinar quais bases são necessárias juntar para resolver nossas perguntas.\n",
    "\n",
    "Bases separadas para cada problema de negócio? Ou a mesma?"
   ]
  },
  {
   "cell_type": "markdown",
   "metadata": {},
   "source": [
    "# Analise Exploratória"
   ]
  },
  {
   "cell_type": "markdown",
   "metadata": {},
   "source": [
    "# Pré Processamento"
   ]
  },
  {
   "cell_type": "markdown",
   "metadata": {},
   "source": [
    "# O resto é história"
   ]
  }
 ],
 "metadata": {
  "kernelspec": {
   "display_name": "Python 3",
   "language": "python",
   "name": "python3"
  },
  "language_info": {
   "codemirror_mode": {
    "name": "ipython",
    "version": 3
   },
   "file_extension": ".py",
   "mimetype": "text/x-python",
   "name": "python",
   "nbconvert_exporter": "python",
   "pygments_lexer": "ipython3",
   "version": "3.8.5"
  }
 },
 "nbformat": 4,
 "nbformat_minor": 4
}
